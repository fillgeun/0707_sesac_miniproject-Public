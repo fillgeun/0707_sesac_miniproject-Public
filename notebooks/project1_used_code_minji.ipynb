{
  "nbformat": 4,
  "nbformat_minor": 0,
  "metadata": {
    "colab": {
      "provenance": []
    },
    "kernelspec": {
      "name": "python3",
      "display_name": "Python 3"
    },
    "language_info": {
      "name": "python"
    }
  },
  "cells": [
    {
      "cell_type": "code",
      "execution_count": 2,
      "metadata": {
        "colab": {
          "base_uri": "https://localhost:8080/",
          "height": 270
        },
        "id": "5QAS5Y-68qsu",
        "outputId": "ff786d9f-b8cc-4498-9d05-9c27a0d51f30"
      },
      "outputs": [
        {
          "output_type": "stream",
          "name": "stdout",
          "text": [
            "Requirement already satisfied: koreanize-matplotlib in /usr/local/lib/python3.11/dist-packages (0.1.1)\n",
            "Requirement already satisfied: matplotlib in /usr/local/lib/python3.11/dist-packages (from koreanize-matplotlib) (3.10.0)\n",
            "Requirement already satisfied: contourpy>=1.0.1 in /usr/local/lib/python3.11/dist-packages (from matplotlib->koreanize-matplotlib) (1.3.2)\n",
            "Requirement already satisfied: cycler>=0.10 in /usr/local/lib/python3.11/dist-packages (from matplotlib->koreanize-matplotlib) (0.12.1)\n",
            "Requirement already satisfied: fonttools>=4.22.0 in /usr/local/lib/python3.11/dist-packages (from matplotlib->koreanize-matplotlib) (4.58.4)\n",
            "Requirement already satisfied: kiwisolver>=1.3.1 in /usr/local/lib/python3.11/dist-packages (from matplotlib->koreanize-matplotlib) (1.4.8)\n",
            "Requirement already satisfied: numpy>=1.23 in /usr/local/lib/python3.11/dist-packages (from matplotlib->koreanize-matplotlib) (2.0.2)\n",
            "Requirement already satisfied: packaging>=20.0 in /usr/local/lib/python3.11/dist-packages (from matplotlib->koreanize-matplotlib) (24.2)\n",
            "Requirement already satisfied: pillow>=8 in /usr/local/lib/python3.11/dist-packages (from matplotlib->koreanize-matplotlib) (11.2.1)\n",
            "Requirement already satisfied: pyparsing>=2.3.1 in /usr/local/lib/python3.11/dist-packages (from matplotlib->koreanize-matplotlib) (3.2.3)\n",
            "Requirement already satisfied: python-dateutil>=2.7 in /usr/local/lib/python3.11/dist-packages (from matplotlib->koreanize-matplotlib) (2.9.0.post0)\n",
            "Requirement already satisfied: six>=1.5 in /usr/local/lib/python3.11/dist-packages (from python-dateutil>=2.7->matplotlib->koreanize-matplotlib) (1.17.0)\n"
          ]
        },
        {
          "output_type": "execute_result",
          "data": {
            "text/plain": [
              "'/content'"
            ],
            "application/vnd.google.colaboratory.intrinsic+json": {
              "type": "string"
            }
          },
          "metadata": {},
          "execution_count": 2
        }
      ],
      "source": [
        "import pandas as pd\n",
        "import numpy as np\n",
        "import matplotlib.pyplot as plt\n",
        "import seaborn as sns\n",
        "!pip install koreanize-matplotlib\n",
        "import koreanize_matplotlib\n",
        "%matplotlib inline\n",
        "import os\n",
        "os.getcwd()\n"
      ]
    },
    {
      "cell_type": "code",
      "source": [
        "from scipy import stats as spst\n"
      ],
      "metadata": {
        "id": "rdth4wNf9z1H"
      },
      "execution_count": 6,
      "outputs": []
    },
    {
      "cell_type": "code",
      "source": [
        "orders = pd.read_csv(\"./drive/MyDrive/데이터분석/project1/olist_orders_dataset.csv\")\n",
        "order_items = pd.read_csv(\"./drive/MyDrive/데이터분석/project1/olist_order_items_dataset.csv\")\n",
        "payments = pd.read_csv(\"./drive/MyDrive/데이터분석/project1/olist_order_payments_dataset.csv\")\n",
        "reviews = pd.read_csv(\"./drive/MyDrive/데이터분석/project1/olist_order_reviews_dataset.csv\")\n",
        "customers = pd.read_csv(\"./drive/MyDrive/데이터분석/project1/olist_customers_dataset.csv\")\n",
        "sellers = pd.read_csv(\"./drive/MyDrive/데이터분석/project1/olist_sellers_dataset.csv\")\n",
        "products = pd.read_csv(\"./drive/MyDrive/데이터분석/project1/olist_products_dataset.csv\")\n",
        "geolocation = pd.read_csv(\"./drive/MyDrive/데이터분석/project1/olist_geolocation_dataset.csv\")\n",
        "categories = pd.read_csv(\"./drive/MyDrive/데이터분석/project1/product_category_name_translation.csv\")"
      ],
      "metadata": {
        "id": "lubNx7CY9Lmt"
      },
      "execution_count": 3,
      "outputs": []
    },
    {
      "cell_type": "markdown",
      "source": [
        "## 지연 여부에 따른 평균 리뷰 점수"
      ],
      "metadata": {
        "id": "MMA-hHl99S_X"
      }
    },
    {
      "cell_type": "code",
      "source": [
        "# 1단계 : null 값이 있는 행 제거 (배송일, 예상일, 별점 모두 있어야 분석 가능)\n",
        "orders_clean = orders.dropna(subset=['order_delivered_customer_date', 'order_estimated_delivery_date'])\n",
        "reviews_clean = reviews.dropna(subset=['review_score'])\n",
        "\n",
        "# 2단계 : 날짜 타입 변환 (이미 되었지만 안전하게 다시 처리)\n",
        "orders_clean['order_delivered_customer_date'] = pd.to_datetime(orders_clean['order_delivered_customer_date'])\n",
        "orders_clean['order_estimated_delivery_date'] = pd.to_datetime(orders_clean['order_estimated_delivery_date'])\n",
        "\n",
        "# 3단계 : 지연 여부 컬럼 추가 _ 예상 배송일(24시까지)보다 늦은 경우\n",
        "orders_clean['is_late']= orders_clean['order_delivered_customer_date'] > orders_clean['order_estimated_delivery_date']+ pd.Timedelta(days=1)\n",
        "\n",
        "# 4단계 : orders와 reviews 데이터 병합\n",
        "merged_df = pd.merge(\n",
        "    orders_clean[['order_id', 'is_late']],\n",
        "    reviews_clean[['order_id', 'review_score']],\n",
        "    on='order_id'\n",
        ")\n",
        "\n",
        "# 5단계 : 지연 여부와 리뷰 점수 간 상관관계 분석\n",
        "late_avg = merged_df.groupby('is_late')['review_score'].mean().reset_index()\n",
        "\n",
        "# 6단계 : 시각화\n",
        "plt.figure(figsize=(6, 4))\n",
        "barplot = sns.barplot(data=late_avg, x='is_late', y='review_score', palette='Set2')\n",
        "plt.xticks([0, 1], ['정시 배송', '지연 배송'])\n",
        "plt.title('지연 여부에 따른 평균 리뷰 점수')\n",
        "plt.ylabel('평균 리뷰 점수')\n",
        "plt.xlabel('배송 지연 여부')\n",
        "plt.ylim(0, 5.5)\n",
        "plt.tight_layout()\n",
        "\n",
        "for p in barplot.patches:\n",
        "    # 막대의 높이 (평균 리뷰 점수)\n",
        "    height = p.get_height()\n",
        "    # 텍스트 위치 (막대 중앙)\n",
        "    barplot.text(p.get_x() + p.get_width() / 2, height + 0.1, # x, y좌표 (막대 높이보다 약간 위)\n",
        "                 f'{height:.2f}', ha='center', va='bottom', fontsize=10, color='black')\n",
        "# 결과 출력\n",
        "plt.show()\n",
        "\n",
        "\n"
      ],
      "metadata": {
        "colab": {
          "base_uri": "https://localhost:8080/",
          "height": 838
        },
        "id": "FvNZ4RKm9HWm",
        "outputId": "ce15a2f4-6b03-44c4-dc11-5e13168f3412"
      },
      "execution_count": 4,
      "outputs": [
        {
          "output_type": "stream",
          "name": "stderr",
          "text": [
            "/tmp/ipython-input-4-2703693290.py:6: SettingWithCopyWarning: \n",
            "A value is trying to be set on a copy of a slice from a DataFrame.\n",
            "Try using .loc[row_indexer,col_indexer] = value instead\n",
            "\n",
            "See the caveats in the documentation: https://pandas.pydata.org/pandas-docs/stable/user_guide/indexing.html#returning-a-view-versus-a-copy\n",
            "  orders_clean['order_delivered_customer_date'] = pd.to_datetime(orders_clean['order_delivered_customer_date'])\n",
            "/tmp/ipython-input-4-2703693290.py:7: SettingWithCopyWarning: \n",
            "A value is trying to be set on a copy of a slice from a DataFrame.\n",
            "Try using .loc[row_indexer,col_indexer] = value instead\n",
            "\n",
            "See the caveats in the documentation: https://pandas.pydata.org/pandas-docs/stable/user_guide/indexing.html#returning-a-view-versus-a-copy\n",
            "  orders_clean['order_estimated_delivery_date'] = pd.to_datetime(orders_clean['order_estimated_delivery_date'])\n",
            "/tmp/ipython-input-4-2703693290.py:10: SettingWithCopyWarning: \n",
            "A value is trying to be set on a copy of a slice from a DataFrame.\n",
            "Try using .loc[row_indexer,col_indexer] = value instead\n",
            "\n",
            "See the caveats in the documentation: https://pandas.pydata.org/pandas-docs/stable/user_guide/indexing.html#returning-a-view-versus-a-copy\n",
            "  orders_clean['is_late']= orders_clean['order_delivered_customer_date'] > orders_clean['order_estimated_delivery_date']+ pd.Timedelta(days=1)\n",
            "/tmp/ipython-input-4-2703693290.py:24: FutureWarning: \n",
            "\n",
            "Passing `palette` without assigning `hue` is deprecated and will be removed in v0.14.0. Assign the `x` variable to `hue` and set `legend=False` for the same effect.\n",
            "\n",
            "  barplot = sns.barplot(data=late_avg, x='is_late', y='review_score', palette='Set2')\n"
          ]
        },
        {
          "output_type": "display_data",
          "data": {
            "text/plain": [
              "<Figure size 600x400 with 1 Axes>"
            ],
            "image/png": "[encoded data removed]"
          },
          "metadata": {}
        }
      ]
    },
    {
      "cell_type": "markdown",
      "source": [
        "## 지연 배송과 별점 간 상관분석 결과"
      ],
      "metadata": {
        "id": "KEfXdDuS-eaR"
      }
    },
    {
      "cell_type": "code",
      "source": [
        "## 상관 분석용 상관계수 (지연 여부와 별점 간 피어슨 상관계수)\n",
        "correlation = merged_df[['is_late', 'review_score']].corr().iloc[0, 1]\n",
        "print(f'- 지연 여부와 별점 간 피어슨 상관계수 {correlation}')\n",
        "print('지연 여부와 별점은 음의 상관관계를 갖는다.')"
      ],
      "metadata": {
        "colab": {
          "base_uri": "https://localhost:8080/"
        },
        "id": "BXUYmKKj-arg",
        "outputId": "824847cc-5792-465d-e7ad-5f530e7d1c92"
      },
      "execution_count": 8,
      "outputs": [
        {
          "output_type": "stream",
          "name": "stdout",
          "text": [
            "- 지연 여부와 별점 간 피어슨 상관계수 -0.39144441509913175\n",
            "지연 여부와 별점은 음의 상관관계를 갖는다.\n"
          ]
        }
      ]
    },
    {
      "cell_type": "markdown",
      "source": [
        "## 배송 지연 여부와 부정적인 리뷰 간의 상관관계 (p-value 기반 분석)\n",
        "\n"
      ],
      "metadata": {
        "id": "T-sPo4iJ9Y-c"
      }
    },
    {
      "cell_type": "markdown",
      "source": [
        "예상 날짜 이후에 배송된 주문이 부정적인 리뷰(3점 이하)를 받을 가능성이 더 높은지 검정한다.\n",
        "\n",
        "- 귀무가설(H₀): 배송 지연은 부정적인 리뷰 발생 가능성을 증가시키지 않는다.\n",
        "\n",
        "- 대립가설(H₁): 배송 지연은 부정적인 리뷰 발생 가능성을 증가시킨다.\n"
      ],
      "metadata": {
        "id": "Wju7ppdp9rVo"
      }
    },
    {
      "cell_type": "code",
      "source": [
        "# 1. 부정적 리뷰 여부 컬럼 추가 (True: 3점 이하)\n",
        "merged_df['is_negative_review'] = merged_df['review_score'] <= 3\n",
        "\n",
        "# 2. 피어슨 상관계수 계산을 위해 bool → int 변환 (True=1, False=0)\n",
        "x = merged_df['is_late'].astype(int)  # 배송 지연 여부\n",
        "y = merged_df['is_negative_review'].astype(int)  # 부정적 리뷰 여부\n",
        "\n",
        "# 3. 배송 지연과 3점 이하 리뷰 // 피어슨 상관계수와 p-value 계산\n",
        "correlation_coefficient, p_value = spst.pearsonr(x, y)\n",
        "\n",
        "print(f\"- 배송 지연과 부정적인 리뷰 p-value: {p_value:.2f}\")"
      ],
      "metadata": {
        "colab": {
          "base_uri": "https://localhost:8080/"
        },
        "id": "8aNPAuMO9Zc4",
        "outputId": "611cea0d-104a-43a7-f483-2246241998e8"
      },
      "execution_count": 7,
      "outputs": [
        {
          "output_type": "stream",
          "name": "stdout",
          "text": [
            "- 배송 지연과 부정적인 리뷰 p-value: 0.00\n"
          ]
        }
      ]
    },
    {
      "cell_type": "markdown",
      "source": [
        "p-value < 0.05 (실질적으로 0)\n",
        "\n",
        "> 일반적인 알파 수준(0.05)에서 통계적으로 유의미하다.\n",
        "\n"
      ],
      "metadata": {
        "id": "JSR2e1g_-Jv5"
      }
    }
  ]
}